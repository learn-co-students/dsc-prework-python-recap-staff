{
 "cells": [
  {
   "cell_type": "markdown",
   "metadata": {},
   "source": [
    "# Python Fundamentals - Recap"
   ]
  },
  {
   "cell_type": "markdown",
   "metadata": {},
   "source": [
    "## Introduction\n",
    "\n",
    "In this section, you learned the fundamentals of Python! As you continue your Data Science journey, programming will continue to be one of the most important components of your toolkit.\n"
   ]
  },
  {
   "cell_type": "markdown",
   "metadata": {},
   "source": [
    "## Key Takeaways\n",
    "\n",
    "* **Data Types** - Data types are an essential part of programming. They allow computers to differentiate between different types of information and provide useful methods for manipulating data according to their type. \n",
    "\n",
    "* **Variables** - Variables allow us to label data so that programmers can easily identify what the data represents. Variables also allow us to store data into memory and use the saved data in future lines of code. \n",
    "\n",
    "* **Conditionals** - When writing code, we are writing instructions. Conditionals allow us to write flexible instructions so that depending on the situation, different code is activated. \n",
    "\n",
    "* **Collections** - With collections, we are able to organize our data into structures for efficient manipulation and extraction of information. With lists we can store multiple data points within a single, index ordered, variable. With dictionaries, we are able to organize our data into different labeled categories. \n",
    "\n",
    "* **Visualization** - `matplotlib` allows us to better understand our data with the creation of bar charts, histograms, and scatter plots.\n",
    "\n",
    "* **Functions and Methods** - Python has a range of functions and methods (methods are functions associated with an object) that can help us to perform a wide range of useful tasks quickly and efficiently.\n",
    "\n",
    "* **Loops** - Loops aren't only for collections. `while` loops allow us to iterate until a condition is met, and we can use nested loops for more complicated situations (but should be careful about doing so too often).\n",
    "\n",
    "* **Custom Functions** - When you write a piece of code that you might want to use again, it often makes sense to save it as a function, and you can add arguments to functions to allow them to be more flexible in the ways they're reused."
   ]
  },
  {
   "cell_type": "code",
   "execution_count": null,
   "metadata": {},
   "outputs": [],
   "source": []
  }
 ],
 "metadata": {
  "hide_input": false,
  "kernelspec": {
   "display_name": "Python 3",
   "language": "python",
   "name": "python3"
  },
  "language_info": {
   "codemirror_mode": {
    "name": "ipython",
    "version": 3
   },
   "file_extension": ".py",
   "mimetype": "text/x-python",
   "name": "python",
   "nbconvert_exporter": "python",
   "pygments_lexer": "ipython3",
   "version": "3.7.6"
  },
  "toc": {
   "base_numbering": 1,
   "nav_menu": {},
   "number_sections": false,
   "sideBar": true,
   "skip_h1_title": true,
   "title_cell": "Table of Contents",
   "title_sidebar": "Contents",
   "toc_cell": false,
   "toc_position": {},
   "toc_section_display": true,
   "toc_window_display": false
  },
  "varInspector": {
   "cols": {
    "lenName": 16,
    "lenType": 16,
    "lenVar": 40
   },
   "kernels_config": {
    "python": {
     "delete_cmd_postfix": "",
     "delete_cmd_prefix": "del ",
     "library": "var_list.py",
     "varRefreshCmd": "print(var_dic_list())"
    },
    "r": {
     "delete_cmd_postfix": ") ",
     "delete_cmd_prefix": "rm(",
     "library": "var_list.r",
     "varRefreshCmd": "cat(var_dic_list()) "
    }
   },
   "types_to_exclude": [
    "module",
    "function",
    "builtin_function_or_method",
    "instance",
    "_Feature"
   ],
   "window_display": false
  }
 },
 "nbformat": 4,
 "nbformat_minor": 2
}
